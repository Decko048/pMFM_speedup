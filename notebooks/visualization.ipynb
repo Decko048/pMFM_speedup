{
 "cells": [
  {
   "cell_type": "code",
   "execution_count": null,
   "metadata": {},
   "outputs": [],
   "source": []
  }
 ],
 "metadata": {
  "kernelspec": {
   "display_name": "Python 3.8.13 ('pMFM_speedup': conda)",
   "language": "python",
   "name": "python3"
  },
  "language_info": {
   "name": "python",
   "version": "3.8.13"
  },
  "orig_nbformat": 4,
  "vscode": {
   "interpreter": {
    "hash": "8ca0237fd6f1d79976cfc1b29a9ee2446cd9df4297156e2436ffeda93075d7fc"
   }
  }
 },
 "nbformat": 4,
 "nbformat_minor": 2
}
